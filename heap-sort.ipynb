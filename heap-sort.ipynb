{
 "cells": [
  {
   "cell_type": "markdown",
   "id": "4eb541fd",
   "metadata": {},
   "source": [
    "# Heap Sort"
   ]
  },
  {
   "cell_type": "markdown",
   "id": "23f96942",
   "metadata": {},
   "source": [
    "## What is heap sort?"
   ]
  },
  {
   "cell_type": "raw",
   "id": "3dbdeca7",
   "metadata": {},
   "source": [
    "Heap sort is a comparison-based sorting technique based on Binary Heap data structure. It works by first building the heap with given elements. A max heap is then created to sort the elements in ascending order. Once this heap has been created then the root node is swapped the last node and then the last node from the heap is deleted"
   ]
  },
  {
   "cell_type": "markdown",
   "id": "030b64af",
   "metadata": {},
   "source": [
    "example: Given the array [2,5,4,14,6,12,11], the heap is created"
   ]
  },
  {
   "cell_type": "raw",
   "id": "b514b6d1",
   "metadata": {},
   "source": [
    "    2\n",
    "   / \\\n",
    "  5    4 \n",
    " /\\   / \\\n",
    "14 6 12 11"
   ]
  },
  {
   "cell_type": "raw",
   "id": "87063ef1",
   "metadata": {},
   "source": [
    "Then the max heap is made by moving elements so the no element is greater than its parent element"
   ]
  },
  {
   "cell_type": "raw",
   "id": "6a751952",
   "metadata": {},
   "source": [
    "    14\n",
    "   /  \\\n",
    "  6    12\n",
    " / \\   / \\\n",
    "2   5 4   11"
   ]
  },
  {
   "cell_type": "raw",
   "id": "ad548714",
   "metadata": {},
   "source": [
    "Add the largest  node to the end array and remove it from the heap...\n",
    "[2,5,4,11,6,12,14]"
   ]
  },
  {
   "cell_type": "raw",
   "id": "e02f9679",
   "metadata": {},
   "source": [
    "    11\n",
    "   /  \\\n",
    "  6    12\n",
    " / \\   /\n",
    "2   5 4"
   ]
  },
  {
   "cell_type": "raw",
   "id": "ef34353e",
   "metadata": {},
   "source": [
    "Sort the heap again and repeat until the array is ordered correctly"
   ]
  },
  {
   "cell_type": "code",
   "execution_count": 3,
   "id": "f07cb504",
   "metadata": {},
   "outputs": [],
   "source": [
    "##  Coded Heap sort Example\n",
    "\n",
    "def swap(list, i, j):\n",
    "    lst[i], lst[j] = lst[j], lst[i]"
   ]
  },
  {
   "cell_type": "code",
   "execution_count": 9,
   "id": "9d6e9758",
   "metadata": {},
   "outputs": [],
   "source": [
    "def siftDown(lst, i, upper):\n",
    "        while (True):\n",
    "            l, r = i*2+1, i*2+2\n",
    "            if max(l, r) < upper:\n",
    "                if lst[i] >= max(lst[l], lst[r]): break\n",
    "                elif lst[l] > lst[r]:\n",
    "                    swap(lst, i, l)\n",
    "                    i = l\n",
    "                else:\n",
    "                    swap(lst, i, r)\n",
    "                    i = r\n",
    "            elif l < upper:\n",
    "                if lst[l] > lst[i]:\n",
    "                        swap(lst, i, l)\n",
    "                        i = l\n",
    "                else: break\n",
    "            elif r < upper:\n",
    "                if lst[r] > lst[i]:\n",
    "                    swap(lst, i, r)\n",
    "                    i = r\n",
    "                else: break\n",
    "            else: break"
   ]
  },
  {
   "cell_type": "code",
   "execution_count": 7,
   "id": "7756fb57",
   "metadata": {},
   "outputs": [
    {
     "name": "stdout",
     "output_type": "stream",
     "text": [
      "[1, 5, 8, 14, 16, 20, 26]\n"
     ]
    }
   ],
   "source": [
    "def heapsort(lst):\n",
    "    for j in range((len(lst)-2)//2, -1, -1):\n",
    "        siftDown(lst, j, len(lst))\n",
    "        \n",
    "    for end in range(len(lst)-1, 0, -1):\n",
    "        swap(lst, 0, end)\n",
    "        siftDown(lst, 0, end)\n",
    "        \n",
    "lst = [5,16,8,14,20,1,26]\n",
    "heapsort(lst)\n",
    "print(lst)\n"
   ]
  },
  {
   "cell_type": "markdown",
   "id": "994a24fa",
   "metadata": {},
   "source": [
    "# Computational Complexity of Heap Sort"
   ]
  },
  {
   "cell_type": "markdown",
   "id": "d42f304b",
   "metadata": {},
   "source": [
    "### Time Complexity"
   ]
  },
  {
   "cell_type": "raw",
   "id": "44297e16",
   "metadata": {},
   "source": [
    "he time Complexity of Heapify() is O(log n), i.e., if the number of elements doubles, the tree becomes only one level deeper. The heapify() method total complexity for repairing the heap is also O(n log n)\n",
    "Both sub-algorithms, therefore, have the same time complexity, hence,\n",
    "The time complexity of Heapsort is:\n",
    "O(n log n)"
   ]
  },
  {
   "cell_type": "markdown",
   "id": "a0d05035",
   "metadata": {},
   "source": [
    "### Space Complexity"
   ]
  },
  {
   "cell_type": "raw",
   "id": "fd541667",
   "metadata": {},
   "source": [
    "Heap sort is an in-place sorting method, this means no added memory is needed except for the number of loops and the amount of auxiliary variables to process. These variables are always the same amount ergo\n",
    "The space complexity of heapsort is:\n",
    "O(1)"
   ]
  },
  {
   "cell_type": "markdown",
   "id": "7dfb65e9",
   "metadata": {},
   "source": [
    "##  How Graph Theory is Used in Heap Sort"
   ]
  },
  {
   "cell_type": "raw",
   "id": "90539468",
   "metadata": {},
   "source": [
    "Graph Theory is used in Heap sort to visualize and better understand the sorting process a heap goes through in order for the function to create the desired outcome. Through graph theory you can see the step by step process a computer goes through to sort an array using a Heap sort and it also helps us to better understand why the algorithm works the way it does"
   ]
  },
  {
   "cell_type": "markdown",
   "id": "503a5282",
   "metadata": {},
   "source": [
    "<h2>Refrences</h2>"
   ]
  },
  {
   "cell_type": "raw",
   "id": "930cfef0",
   "metadata": {},
   "source": [
    "Computational Complexity of Heap Sort\n",
    "https://www.happycoders.eu/algorithms/heapsort/#Heapsort_Time_Complexity\n",
    "\n",
    "What is heap sort\n",
    "https://www.geeksforgeeks.org/heap-sort/"
   ]
  }
 ],
 "metadata": {
  "kernelspec": {
   "display_name": "Python 3 (ipykernel)",
   "language": "python",
   "name": "python3"
  },
  "language_info": {
   "codemirror_mode": {
    "name": "ipython",
    "version": 3
   },
   "file_extension": ".py",
   "mimetype": "text/x-python",
   "name": "python",
   "nbconvert_exporter": "python",
   "pygments_lexer": "ipython3",
   "version": "3.9.7"
  }
 },
 "nbformat": 4,
 "nbformat_minor": 5
}
