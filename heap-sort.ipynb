{
 "cells": [
  {
   "cell_type": "markdown",
   "id": "5d344d98",
   "metadata": {},
   "source": [
    "# Heap Sort"
   ]
  },
  {
<<<<<<< HEAD
   "cell_type": "markdown",
   "id": "ea158241",
   "metadata": {},
   "source": [
    "<h2>What is heap sort?</h2>"
   ]
  },
  {
=======
>>>>>>> 5d8c706fafb04c5d3872a465f908f02bb3db8fad
   "cell_type": "raw",
   "id": "06bbefb3",
   "metadata": {},
   "source": [
<<<<<<< HEAD
=======
    "What is heap sort?\n",
>>>>>>> 5d8c706fafb04c5d3872a465f908f02bb3db8fad
    "Heap sort is a comparison-based sorting technique based on Binary Heap data structure. It works by first building the heap with given elements. A max heap is then created to sort the elements in ascending order. Once this heap has been created then the root node is swapped the last node and then the last node from the heap is deleted"
   ]
  },
  {
   "cell_type": "raw",
   "id": "58d8a509",
   "metadata": {},
   "source": [
    "example: Given the array [2,5,4,14,6,12,11], the heap is created\n",
    "\n",
    "            2\n",
    "           /  \\\n",
    "          5    4\n",
    "         / \\  / \\\n",
    "        14 6 12  11\n",
    " Then the max heap is made by moving elements so the no element is greater than its parent element\n",
    " \n",
    "            14\n",
    "           /  \\\n",
    "          6    12\n",
    "         / \\   / \\\n",
    "        2   5 4   11\n",
    "Add the largest  node to the end array and remove it from the heap\n",
    "[2,5,4,11,6,12,14]\n",
    "\n",
    "            11\n",
    "           /  \\\n",
    "          6    12\n",
    "         / \\   / \n",
    "        2   5 4   \n",
    "Sort the heap again and repeat until the array is ordered correctly"
   ]
  },
  {
   "cell_type": "markdown",
   "id": "32e82703",
   "metadata": {},
   "source": [
    "##  Coded Heap sort Example "
   ]
  },
  {
   "cell_type": "code",
   "execution_count": 1,
   "id": "c386783f",
   "metadata": {},
   "outputs": [],
   "source": [
    "def swap(list, i, j):\n",
    "    lst[i], lst[j] = lst[j], lst[i]"
   ]
  },
  {
   "cell_type": "code",
   "execution_count": 6,
   "id": "ba3dccdf",
   "metadata": {},
   "outputs": [],
   "source": [
    "def siftDown(lst, i, upper):\n",
    "    while (True):\n",
    "        l, r = i*2+1, i*2+2\n",
    "        if max(l, r) < upper:\n",
    "            if lst[i] >= max(lst[l], lst[r]): break\n",
    "            elif lst[l] > lst[r]:\n",
    "                swap(lst, i, l)\n",
    "                i = l\n",
    "            else:\n",
    "                swap(lst, i, r)\n",
    "                i = r\n",
    "        elif l < upper:\n",
    "            if lst[l] > lst[i]:\n",
    "                    swap(lst, i, l)\n",
    "                    i = l\n",
    "            else: break\n",
    "        elif r < upper:\n",
    "            if lst[r] > lst[i]:\n",
    "                swap(lst, i, r)\n",
    "                i = r\n",
    "            else: break\n",
    "        else: break"
   ]
  },
  {
   "cell_type": "code",
   "execution_count": 11,
   "id": "a56f4092",
   "metadata": {},
   "outputs": [
    {
     "name": "stdout",
     "output_type": "stream",
     "text": [
      "[2, 4, 5, 6, 11, 12, 14]\n"
     ]
    }
   ],
   "source": [
    "def heapsort(lst):\n",
    "    for j in range((len(lst)-2)//2, -1, -1):\n",
    "        siftDown(lst, j, len(lst))\n",
    "        \n",
    "    for end in range(len(lst)-1, 0, -1):\n",
    "        swap(lst, 0, end)\n",
    "        siftDown(lst, 0, end)\n",
    "        \n",
    "lst = [2,5,4,14,6,12,11]\n",
    "\n",
    "heapsort(lst)\n",
    "print(lst)"
   ]
  },
  {
   "cell_type": "markdown",
   "id": "2b3cb8c2",
   "metadata": {},
   "source": [
    "## Computational Complexity of Heap Sort"
   ]
  },
  {
   "cell_type": "markdown",
   "id": "db181474",
   "metadata": {},
   "source": [
    "### Time Complexity"
   ]
  },
  {
   "cell_type": "raw",
   "id": "e9c42296",
   "metadata": {},
   "source": [
    "Heapsort works using two sub-algorithms Heapify() and BuildHeap(). \n",
    "\n",
    "The time Complexity of Heapify() is O(log n), i.e., if the number of elements doubles, the tree becomes only one level deeper.\n",
    "\n",
    "The heapify() method total complexity for repairing the heap is also O(n log n).\n",
    "\n",
    "Both sub-algorithms, therefore, have the same time complexity. Hence:\n",
    "The time complexity of Heapsort is:\n",
    "O(n log n)\n"
   ]
  },
  {
   "cell_type": "markdown",
   "id": "bbfedc4a",
   "metadata": {},
   "source": [
    "### Space Complexity "
   ]
  },
  {
   "cell_type": "raw",
   "id": "68f96e75",
   "metadata": {},
   "source": [
    "Heap sort is an in-place sorting method, this means no added memory is needed except for the number of loops and the amount of auxiliary variables to process. These variables are always the same amount ergo:\n",
    "The space complexity of heapsort is: \n",
    "O(1)"
   ]
  },
  {
   "cell_type": "markdown",
   "id": "b0dead2d",
   "metadata": {},
   "source": [
    "##  How Graph Theory is Used in Heap Sort"
   ]
  },
  {
   "cell_type": "raw",
   "id": "d6a98770",
   "metadata": {},
   "source": [
    "Graph Theory is used in Heap sort to visualize and better understand the sorting process a heap goes through in order for the function to create the desired outcome. Through graph theory you can see the step by step process a computer goes through to sort an array using a Heap sort and it also helps us to better understand why the algorithm works the way it does"
   ]
  }
 ],
 "metadata": {
  "kernelspec": {
   "display_name": "Python 3 (ipykernel)",
   "language": "python",
   "name": "python3"
  },
  "language_info": {
   "codemirror_mode": {
    "name": "ipython",
    "version": 3
   },
   "file_extension": ".py",
   "mimetype": "text/x-python",
   "name": "python",
   "nbconvert_exporter": "python",
   "pygments_lexer": "ipython3",
   "version": "3.9.7"
  }
 },
 "nbformat": 4,
 "nbformat_minor": 5
}
