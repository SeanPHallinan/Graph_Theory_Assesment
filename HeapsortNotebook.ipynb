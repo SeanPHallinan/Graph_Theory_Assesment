{
 "cells": [
  {
   "cell_type": "code",
   "execution_count": 2,
   "id": "8db1f21d",
   "metadata": {},
   "outputs": [],
   "source": [
    "#Heap Sort"
   ]
  },
  {
   "cell_type": "code",
   "execution_count": 4,
   "id": "c386783f",
   "metadata": {},
   "outputs": [],
   "source": [
    "def swap(list, i, j):\n",
    "    lst[i], lst[j] = lst[j], lst[i]"
   ]
  },
  {
   "cell_type": "code",
   "execution_count": 14,
   "id": "ba3dccdf",
   "metadata": {},
   "outputs": [],
   "source": [
    "def siftDown(lst, i, upper):\n",
    "    while (True):\n",
    "        l, r = i*2+1, i*2+2\n",
    "        if max(l, r) < upper:\n",
    "            if lst[i] >= max(lst[l], lst[r]): break\n",
    "            elif lst[l] > lst[r]:\n",
    "                swap(lst, i, l)\n",
    "                i = l\n",
    "            else:\n",
    "                swap(lst, i, r)\n",
    "                i = r\n",
    "        elif l < upper:\n",
    "            if lst[l] > lst[i]:\n",
    "                    swap(lst, i, l)\n",
    "                    i = l\n",
    "            else: break\n",
    "        elif r < upper:\n",
    "            if lst[r] > lst[i]:\n",
    "                swap(lst, i, r)\n",
    "                i = r\n",
    "            else: break\n",
    "        else: break"
   ]
  },
  {
   "cell_type": "code",
   "execution_count": 15,
   "id": "c94c68ac",
   "metadata": {},
   "outputs": [
    {
     "name": "stdout",
     "output_type": "stream",
     "text": [
      "[1, 5, 8, 14, 16, 20, 26]\n"
     ]
    }
   ],
   "source": [
    "def heapsort(lst):\n",
    "    for j in range((len(lst)-2)//2, -1, -1):\n",
    "        siftDown(lst, j, len(lst))\n",
    "        \n",
    "    for end in range(len(lst)-1, 0, -1):\n",
    "        swap(lst, 0, end)\n",
    "        siftDown(lst, 0, end)\n",
    "        \n",
    "lst = [5,16,8,14,20,1,26]\n",
    "heapsort(lst)\n",
    "print(lst)"
   ]
  },
  {
   "cell_type": "code",
   "execution_count": null,
   "id": "8e02f3cd",
   "metadata": {},
   "outputs": [],
   "source": []
  },
  {
   "cell_type": "code",
   "execution_count": null,
   "id": "72467ff5",
   "metadata": {},
   "outputs": [],
   "source": []
  }
 ],
 "metadata": {
  "kernelspec": {
   "display_name": "Python 3 (ipykernel)",
   "language": "python",
   "name": "python3"
  },
  "language_info": {
   "codemirror_mode": {
    "name": "ipython",
    "version": 3
   },
   "file_extension": ".py",
   "mimetype": "text/x-python",
   "name": "python",
   "nbconvert_exporter": "python",
   "pygments_lexer": "ipython3",
   "version": "3.9.7"
  }
 },
 "nbformat": 4,
 "nbformat_minor": 5
}
